{
 "cells": [
  {
   "cell_type": "markdown",
   "id": "d7be020f",
   "metadata": {},
   "source": [
    "### Satellite position and Speed\n",
    "\n",
    "The number of RSOs - artificial objects that are in orbit around earth has nearly doubled during the last 2 decades, from around 11K to 20K in 2019. This number is expected to rise due to satellite technology improvements and lower costs of production. \n",
    "\n",
    "The **challenge** is to predict a more accurate orbit trajectory and satellite positions in order to avoid collisions and avoid the space debris. An uncontrolled chain of collisions and a huge amount of space debris cause what is called the **Kessler Syndrome**\n",
    "\n",
    "[Kessler Syndrome](https://www.google.com/search?q=kessler+syndrome&rlz=1C5CHFA_enES1015ES1015&oq=kessler+syndrome&aqs=chrome.0.69i59j0i22i30l9.2994j0j7&sourceid=chrome&ie=UTF-8) is a phenomenon in which the amount of junk in orbit around Earth reacehs a point where it just creates more and more space Debris, causing substantial problems for satellites, astronauts and mission planners. Some of the day to day problems might include internet connections and mobile communications interruptions. In order to avoid cascade effects, we need to predict position and velocity for satellites.\n",
    "\n",
    "### What we use ML for ?\n",
    "\n",
    "Predicting position and satellite speed. The dataset has been reselased by the Russian Astronomical Science Centre.\n",
    "The aim is to make predictions for the true **kinematic states** (satellite positions and velocity) of 600 satellites in the final 7 days of Jan 2014.\n",
    "\n",
    " "
   ]
  },
  {
   "cell_type": "code",
   "execution_count": 221,
   "id": "04567f32",
   "metadata": {},
   "outputs": [],
   "source": [
    "import numpy as np\n",
    "import pandas as pd\n",
    "import matplotlib.pyplot as plt\n",
    "from sklearn.preprocessing import StandardScaler\n",
    "from sklearn.model_selection import train_test_split\n",
    "from sklearn.ensemble import RandomForestRegressor\n",
    "import time\n",
    "import sklearn\n",
    "from sklearn.metrics import mean_squared_error\n",
    "\n",
    "### Import DVCLive to add the code for experiments \n",
    "from dvclive import Live"
   ]
  },
  {
   "cell_type": "code",
   "execution_count": 222,
   "id": "08aca703",
   "metadata": {},
   "outputs": [],
   "source": [
    "def read_data(path):\n",
    "    \"\"\"Reads the data\"\"\"\n",
    "    data = pd.read_csv(path)\n",
    "    return data"
   ]
  },
  {
   "cell_type": "markdown",
   "id": "a410498b",
   "metadata": {},
   "source": [
    "### Dataset description\n",
    "\n",
    "* The **jan_train** dataset contains data on both true and simulated kinematic states of 600 satellites for the 24-day period of time from 01-Jan-2014 00:00 to 24-Jan-2014 23:59.\n",
    "\n",
    "* The **jan_test** dataset contains data on only the simulated kinematic states of the same 600 satellites for the final 7-day period of time from 25-Jan-2014 00:00 to 30-Jan-2014 23:59.\n",
    "\n",
    "* The **answer_key** dataset contains data on only the true kinematic states of the same 600 satellites for the final 7-day period of time from 25-Jan-2014 00:00 to 30-Jan-2014 23:59. NOTE: The answer_key should only be used for the purpose of evaluation, NOT for training."
   ]
  },
  {
   "cell_type": "code",
   "execution_count": 223,
   "id": "ede991e4",
   "metadata": {},
   "outputs": [],
   "source": [
    "train = read_data('./satellite-data/jan_train.csv')\n",
    "test = read_data('./satellite-data/jan_test.csv')\n",
    "key = read_data('./satellite-data/answer_key.csv')"
   ]
  },
  {
   "cell_type": "code",
   "execution_count": 224,
   "id": "8559d49c",
   "metadata": {},
   "outputs": [
    {
     "name": "stdout",
     "output_type": "stream",
     "text": [
      "<class 'pandas.core.frame.DataFrame'>\n",
      "RangeIndex: 503227 entries, 0 to 503226\n",
      "Data columns (total 15 columns):\n",
      " #   Column  Non-Null Count   Dtype  \n",
      "---  ------  --------------   -----  \n",
      " 0   id      503227 non-null  int64  \n",
      " 1   epoch   503227 non-null  object \n",
      " 2   sat_id  503227 non-null  int64  \n",
      " 3   x       503227 non-null  float64\n",
      " 4   y       503227 non-null  float64\n",
      " 5   z       503227 non-null  float64\n",
      " 6   Vx      503227 non-null  float64\n",
      " 7   Vy      503227 non-null  float64\n",
      " 8   Vz      503227 non-null  float64\n",
      " 9   x_sim   503227 non-null  float64\n",
      " 10  y_sim   503227 non-null  float64\n",
      " 11  z_sim   503227 non-null  float64\n",
      " 12  Vx_sim  503227 non-null  float64\n",
      " 13  Vy_sim  503227 non-null  float64\n",
      " 14  Vz_sim  503227 non-null  float64\n",
      "dtypes: float64(12), int64(2), object(1)\n",
      "memory usage: 57.6+ MB\n"
     ]
    }
   ],
   "source": [
    "train.info()"
   ]
  },
  {
   "cell_type": "code",
   "execution_count": 225,
   "id": "028f6c68",
   "metadata": {},
   "outputs": [
    {
     "data": {
      "text/html": [
       "<div>\n",
       "<style scoped>\n",
       "    .dataframe tbody tr th:only-of-type {\n",
       "        vertical-align: middle;\n",
       "    }\n",
       "\n",
       "    .dataframe tbody tr th {\n",
       "        vertical-align: top;\n",
       "    }\n",
       "\n",
       "    .dataframe thead th {\n",
       "        text-align: right;\n",
       "    }\n",
       "</style>\n",
       "<table border=\"1\" class=\"dataframe\">\n",
       "  <thead>\n",
       "    <tr style=\"text-align: right;\">\n",
       "      <th></th>\n",
       "      <th>id</th>\n",
       "      <th>sat_id</th>\n",
       "      <th>x</th>\n",
       "      <th>y</th>\n",
       "      <th>z</th>\n",
       "      <th>Vx</th>\n",
       "      <th>Vy</th>\n",
       "      <th>Vz</th>\n",
       "      <th>x_sim</th>\n",
       "      <th>y_sim</th>\n",
       "      <th>z_sim</th>\n",
       "      <th>Vx_sim</th>\n",
       "      <th>Vy_sim</th>\n",
       "      <th>Vz_sim</th>\n",
       "    </tr>\n",
       "  </thead>\n",
       "  <tbody>\n",
       "    <tr>\n",
       "      <th>count</th>\n",
       "      <td>5.032270e+05</td>\n",
       "      <td>503227.00000</td>\n",
       "      <td>503227.000000</td>\n",
       "      <td>503227.000000</td>\n",
       "      <td>503227.000000</td>\n",
       "      <td>503227.000000</td>\n",
       "      <td>503227.000000</td>\n",
       "      <td>503227.000000</td>\n",
       "      <td>503227.000000</td>\n",
       "      <td>503227.000000</td>\n",
       "      <td>503227.000000</td>\n",
       "      <td>503227.000000</td>\n",
       "      <td>503227.000000</td>\n",
       "      <td>503227.000000</td>\n",
       "    </tr>\n",
       "    <tr>\n",
       "      <th>mean</th>\n",
       "      <td>6.166217e+05</td>\n",
       "      <td>308.73285</td>\n",
       "      <td>-853.424865</td>\n",
       "      <td>402.306452</td>\n",
       "      <td>-73.143385</td>\n",
       "      <td>-0.001196</td>\n",
       "      <td>0.000692</td>\n",
       "      <td>-0.000004</td>\n",
       "      <td>-956.526943</td>\n",
       "      <td>327.145192</td>\n",
       "      <td>-83.960621</td>\n",
       "      <td>-0.001451</td>\n",
       "      <td>0.000761</td>\n",
       "      <td>-0.000410</td>\n",
       "    </tr>\n",
       "    <tr>\n",
       "      <th>std</th>\n",
       "      <td>3.566322e+05</td>\n",
       "      <td>171.48208</td>\n",
       "      <td>25370.592477</td>\n",
       "      <td>25618.708154</td>\n",
       "      <td>20634.331833</td>\n",
       "      <td>2.641560</td>\n",
       "      <td>2.595759</td>\n",
       "      <td>2.115538</td>\n",
       "      <td>25372.330435</td>\n",
       "      <td>25606.021391</td>\n",
       "      <td>20662.073081</td>\n",
       "      <td>2.640315</td>\n",
       "      <td>2.597858</td>\n",
       "      <td>2.113790</td>\n",
       "    </tr>\n",
       "    <tr>\n",
       "      <th>min</th>\n",
       "      <td>0.000000e+00</td>\n",
       "      <td>0.00000</td>\n",
       "      <td>-251938.766780</td>\n",
       "      <td>-286031.403281</td>\n",
       "      <td>-178922.412426</td>\n",
       "      <td>-8.286673</td>\n",
       "      <td>-8.231654</td>\n",
       "      <td>-8.004109</td>\n",
       "      <td>-255037.952966</td>\n",
       "      <td>-282851.387908</td>\n",
       "      <td>-180250.922287</td>\n",
       "      <td>-8.243159</td>\n",
       "      <td>-8.329723</td>\n",
       "      <td>-7.608696</td>\n",
       "    </tr>\n",
       "    <tr>\n",
       "      <th>25%</th>\n",
       "      <td>3.071875e+05</td>\n",
       "      <td>166.00000</td>\n",
       "      <td>-13149.249048</td>\n",
       "      <td>-11642.206414</td>\n",
       "      <td>-8008.723282</td>\n",
       "      <td>-1.899626</td>\n",
       "      <td>-1.875851</td>\n",
       "      <td>-1.254823</td>\n",
       "      <td>-13153.655148</td>\n",
       "      <td>-11704.492789</td>\n",
       "      <td>-7970.451958</td>\n",
       "      <td>-1.902258</td>\n",
       "      <td>-1.874874</td>\n",
       "      <td>-1.246798</td>\n",
       "    </tr>\n",
       "    <tr>\n",
       "      <th>50%</th>\n",
       "      <td>6.161820e+05</td>\n",
       "      <td>312.00000</td>\n",
       "      <td>-545.685565</td>\n",
       "      <td>514.726887</td>\n",
       "      <td>32.264258</td>\n",
       "      <td>0.014117</td>\n",
       "      <td>-0.043151</td>\n",
       "      <td>0.010085</td>\n",
       "      <td>-635.247190</td>\n",
       "      <td>535.867911</td>\n",
       "      <td>43.537419</td>\n",
       "      <td>0.020405</td>\n",
       "      <td>-0.011274</td>\n",
       "      <td>0.012062</td>\n",
       "    </tr>\n",
       "    <tr>\n",
       "      <th>75%</th>\n",
       "      <td>9.260245e+05</td>\n",
       "      <td>461.00000</td>\n",
       "      <td>11261.755944</td>\n",
       "      <td>12617.338414</td>\n",
       "      <td>8255.508166</td>\n",
       "      <td>1.960258</td>\n",
       "      <td>1.853402</td>\n",
       "      <td>1.239201</td>\n",
       "      <td>11174.979343</td>\n",
       "      <td>12558.738194</td>\n",
       "      <td>8219.956549</td>\n",
       "      <td>1.951909</td>\n",
       "      <td>1.862468</td>\n",
       "      <td>1.235249</td>\n",
       "    </tr>\n",
       "    <tr>\n",
       "      <th>max</th>\n",
       "      <td>1.233688e+06</td>\n",
       "      <td>599.00000</td>\n",
       "      <td>200382.689756</td>\n",
       "      <td>212443.393808</td>\n",
       "      <td>197200.530574</td>\n",
       "      <td>8.103981</td>\n",
       "      <td>10.444513</td>\n",
       "      <td>8.644108</td>\n",
       "      <td>200779.519772</td>\n",
       "      <td>209619.553857</td>\n",
       "      <td>198526.091552</td>\n",
       "      <td>7.431851</td>\n",
       "      <td>7.989365</td>\n",
       "      <td>8.644165</td>\n",
       "    </tr>\n",
       "  </tbody>\n",
       "</table>\n",
       "</div>"
      ],
      "text/plain": [
       "                 id        sat_id              x              y  \\\n",
       "count  5.032270e+05  503227.00000  503227.000000  503227.000000   \n",
       "mean   6.166217e+05     308.73285    -853.424865     402.306452   \n",
       "std    3.566322e+05     171.48208   25370.592477   25618.708154   \n",
       "min    0.000000e+00       0.00000 -251938.766780 -286031.403281   \n",
       "25%    3.071875e+05     166.00000  -13149.249048  -11642.206414   \n",
       "50%    6.161820e+05     312.00000    -545.685565     514.726887   \n",
       "75%    9.260245e+05     461.00000   11261.755944   12617.338414   \n",
       "max    1.233688e+06     599.00000  200382.689756  212443.393808   \n",
       "\n",
       "                   z             Vx             Vy             Vz  \\\n",
       "count  503227.000000  503227.000000  503227.000000  503227.000000   \n",
       "mean      -73.143385      -0.001196       0.000692      -0.000004   \n",
       "std     20634.331833       2.641560       2.595759       2.115538   \n",
       "min   -178922.412426      -8.286673      -8.231654      -8.004109   \n",
       "25%     -8008.723282      -1.899626      -1.875851      -1.254823   \n",
       "50%        32.264258       0.014117      -0.043151       0.010085   \n",
       "75%      8255.508166       1.960258       1.853402       1.239201   \n",
       "max    197200.530574       8.103981      10.444513       8.644108   \n",
       "\n",
       "               x_sim          y_sim          z_sim         Vx_sim  \\\n",
       "count  503227.000000  503227.000000  503227.000000  503227.000000   \n",
       "mean     -956.526943     327.145192     -83.960621      -0.001451   \n",
       "std     25372.330435   25606.021391   20662.073081       2.640315   \n",
       "min   -255037.952966 -282851.387908 -180250.922287      -8.243159   \n",
       "25%    -13153.655148  -11704.492789   -7970.451958      -1.902258   \n",
       "50%      -635.247190     535.867911      43.537419       0.020405   \n",
       "75%     11174.979343   12558.738194    8219.956549       1.951909   \n",
       "max    200779.519772  209619.553857  198526.091552       7.431851   \n",
       "\n",
       "              Vy_sim         Vz_sim  \n",
       "count  503227.000000  503227.000000  \n",
       "mean        0.000761      -0.000410  \n",
       "std         2.597858       2.113790  \n",
       "min        -8.329723      -7.608696  \n",
       "25%        -1.874874      -1.246798  \n",
       "50%        -0.011274       0.012062  \n",
       "75%         1.862468       1.235249  \n",
       "max         7.989365       8.644165  "
      ]
     },
     "execution_count": 225,
     "metadata": {},
     "output_type": "execute_result"
    }
   ],
   "source": [
    "train.describe()"
   ]
  },
  {
   "cell_type": "markdown",
   "id": "549ba804",
   "metadata": {},
   "source": [
    "### Variable description\n",
    "\n",
    "* **id (integer)**: unique row identifier\n",
    "* **epoch (datetime)**: datetime (at the instant of measurement) in \"%Y-%m-%d %H:%M:%S.%f\" format (e.g. 2014-01-27 18:28:18.284)\n",
    "* **sat_id (integer)**: unique satellite identifier, ranging from 0 to 599\n",
    "* **x, y, z (float)**: the true position coordinates of a satellite (km)\n",
    "* **Vx, Vy, Vz (float)**: the true speeds of a satellite, measured along the respective axes (km/s)\n",
    "* **x_sim, y_sim, z_sim (float)**: the simulated position coordinates of a satellite (km)\n",
    "* **Vx_sim, Vy_sim, Vz_sim (float)**: the simulated speeds of a satellite, measured along the respective axes (km/s)"
   ]
  },
  {
   "cell_type": "code",
   "execution_count": 226,
   "id": "73994e09",
   "metadata": {},
   "outputs": [],
   "source": [
    "### Correlation matrix\n",
    "#corr = train.corr(numeric_only=True)\n",
    "#sns.heatmap(corr, cmap=\"Blues\")"
   ]
  },
  {
   "cell_type": "markdown",
   "id": "dc38cdb9",
   "metadata": {},
   "source": [
    "### Analysis\n",
    "There seems to be a linear relationship in between **position** and **simulated position** and **velocity** and **simulated velocity**"
   ]
  },
  {
   "cell_type": "markdown",
   "id": "fe972180",
   "metadata": {},
   "source": [
    "### PairPlot \n",
    "\n",
    "* Only a clear **linear** relationship in x positions , but not in velocity. \n",
    "\n",
    "* The **individual features** do look like standard normally distributed data , therefore a Standard scaler might initially be a good choice"
   ]
  },
  {
   "cell_type": "code",
   "execution_count": 227,
   "id": "02cec0d4",
   "metadata": {},
   "outputs": [],
   "source": [
    "#sns.pairplot(train)"
   ]
  },
  {
   "cell_type": "markdown",
   "id": "df70fa9b",
   "metadata": {},
   "source": [
    "### Machine Learning Model\n",
    "\n",
    "#### Target variables & Machine Learning Challenge\n",
    "\n",
    "Taking into account the challenge and dataset, coming from an already known simulated trajectories (position and velocity) we want to predict real kinematic trajectories position and velocity. Therefore, we have **multiple target variables** and continuous variables. We will use a [Random Forest Regressor](https://scikit-learn.org/stable/modules/generated/sklearn.ensemble.RandomForestRegressor.html#sklearn.ensemble.RandomForestRegressor). \n",
    "\n",
    "\n",
    "We use an ensemble method , in which we use multiple learning algorithms to obtain better predictive performance. For that we fit multiple target variable regression trees and average results. A random forest is a meta estimator that fits a number of classifying decision trees on various sub-samples of the dataset and uses averaging to improve the predictive accuracy and control over-fitting. The sub-sample size is controlled with the max_samples parameter if bootstrap=True (default), otherwise the whole dataset is used to build each tree. A random forest is a meta estimator that fits a number of classifying decision trees on various sub-samples of the dataset and uses averaging to improve the predictive accuracy and control over-fitting.\n",
    "\n",
    "In a nutshell, we could say that this strategy consists of fitting one regressor per target and then to an average ensemble method. If in in a single target scenario we fit one tree, here we have a forest. \n",
    "\n",
    "![Random Forest Regressor Diagram](/docs/images/random_forest_regressor.jpeg)\n",
    "\n",
    "#### Target variables \n",
    "\n",
    "* **x, y, z (float)**: the true position coordinates of a satellite (km)\n",
    "* **Vx, Vy, Vz (float)**: the true speeds of a satellite, measured along the respective axes (km/s)"
   ]
  },
  {
   "cell_type": "code",
   "execution_count": 228,
   "id": "a26e7a49",
   "metadata": {},
   "outputs": [
    {
     "data": {
      "text/html": [
       "<img src=\"https://github.com/iterative/VSCode-DVC-Workshop/blob/main/docs/images/random_forest_regressor.jpeg\"/>"
      ],
      "text/plain": [
       "<IPython.core.display.Image object>"
      ]
     },
     "execution_count": 228,
     "metadata": {},
     "output_type": "execute_result"
    }
   ],
   "source": [
    "from IPython import display\n",
    "display.Image(url='https://github.com/iterative/VSCode-DVC-Workshop/blob/main/docs/images/random_forest_regressor.jpeg')"
   ]
  },
  {
   "cell_type": "markdown",
   "id": "86d43ebf",
   "metadata": {},
   "source": []
  },
  {
   "cell_type": "markdown",
   "id": "d66d98bb",
   "metadata": {},
   "source": [
    "### Pipeline\n",
    "\n",
    "* Load data --> *read_data*\n",
    "* Feature selection --> *feature_selection*\n",
    "* Split Data --> *split_data*\n",
    "* Normalization --> *standard_classifier*\n",
    "* Classifier --> *ensemble RandomForest* and *multioutput regressor*\n",
    "* Evaluation Metrics --> *acc* and *RMSE*"
   ]
  },
  {
   "cell_type": "markdown",
   "id": "4e62a05e",
   "metadata": {},
   "source": [
    "#### Feature Selection"
   ]
  },
  {
   "cell_type": "code",
   "execution_count": 229,
   "id": "3392e5ff",
   "metadata": {},
   "outputs": [],
   "source": [
    "def feature_selection(data, list_column_x, list_column_y):\n",
    "    \"\"\"Select features for training and target features\"\"\"\n",
    "    X = data[list_column_x]\n",
    "    Y = data[list_column_y]\n",
    "    return X , Y"
   ]
  },
  {
   "cell_type": "code",
   "execution_count": 230,
   "id": "419b3ff5",
   "metadata": {},
   "outputs": [],
   "source": [
    "def transform_to_datetime(data, column):\n",
    "    \"\"\"Applies a standard classifier\"\"\"\n",
    "    data[column] = pd.to_datetime(data[column], errors='coerce')    "
   ]
  },
  {
   "cell_type": "code",
   "execution_count": 231,
   "id": "f5f64602",
   "metadata": {},
   "outputs": [],
   "source": [
    "def delta_time(data, column):\n",
    "    \"\"\"Create Delta columns for daytime\"\"\"\n",
    "    data['Day'] = data[column].apply(lambda time: time.day)\n",
    "    data['Hour'] = data[column].apply(lambda time: time.hour)\n",
    "    data['Minute'] = data[column].apply(lambda time: time.minute)"
   ]
  },
  {
   "cell_type": "code",
   "execution_count": 232,
   "id": "d96b2d27",
   "metadata": {},
   "outputs": [],
   "source": [
    "transform_to_datetime(train, 'epoch')\n",
    "delta_time(train, 'epoch')"
   ]
  },
  {
   "cell_type": "code",
   "execution_count": 233,
   "id": "0c21d2d2",
   "metadata": {},
   "outputs": [
    {
     "data": {
      "text/html": [
       "<div>\n",
       "<style scoped>\n",
       "    .dataframe tbody tr th:only-of-type {\n",
       "        vertical-align: middle;\n",
       "    }\n",
       "\n",
       "    .dataframe tbody tr th {\n",
       "        vertical-align: top;\n",
       "    }\n",
       "\n",
       "    .dataframe thead th {\n",
       "        text-align: right;\n",
       "    }\n",
       "</style>\n",
       "<table border=\"1\" class=\"dataframe\">\n",
       "  <thead>\n",
       "    <tr style=\"text-align: right;\">\n",
       "      <th></th>\n",
       "      <th>id</th>\n",
       "      <th>epoch</th>\n",
       "      <th>sat_id</th>\n",
       "      <th>x</th>\n",
       "      <th>y</th>\n",
       "      <th>z</th>\n",
       "      <th>Vx</th>\n",
       "      <th>Vy</th>\n",
       "      <th>Vz</th>\n",
       "      <th>x_sim</th>\n",
       "      <th>y_sim</th>\n",
       "      <th>z_sim</th>\n",
       "      <th>Vx_sim</th>\n",
       "      <th>Vy_sim</th>\n",
       "      <th>Vz_sim</th>\n",
       "      <th>Day</th>\n",
       "      <th>Hour</th>\n",
       "      <th>Minute</th>\n",
       "    </tr>\n",
       "  </thead>\n",
       "  <tbody>\n",
       "    <tr>\n",
       "      <th>0</th>\n",
       "      <td>0</td>\n",
       "      <td>2014-01-01 00:00:00.000</td>\n",
       "      <td>0</td>\n",
       "      <td>-8855.823863</td>\n",
       "      <td>13117.780146</td>\n",
       "      <td>-20728.353233</td>\n",
       "      <td>-0.908303</td>\n",
       "      <td>-3.808436</td>\n",
       "      <td>-2.022083</td>\n",
       "      <td>-8843.131454</td>\n",
       "      <td>13138.221690</td>\n",
       "      <td>-20741.615306</td>\n",
       "      <td>-0.907527</td>\n",
       "      <td>-3.804930</td>\n",
       "      <td>-2.024133</td>\n",
       "      <td>1</td>\n",
       "      <td>0</td>\n",
       "      <td>0</td>\n",
       "    </tr>\n",
       "    <tr>\n",
       "      <th>1</th>\n",
       "      <td>1</td>\n",
       "      <td>2014-01-01 00:46:43.000</td>\n",
       "      <td>0</td>\n",
       "      <td>-10567.672384</td>\n",
       "      <td>1619.746066</td>\n",
       "      <td>-24451.813271</td>\n",
       "      <td>-0.302590</td>\n",
       "      <td>-4.272617</td>\n",
       "      <td>-0.612796</td>\n",
       "      <td>-10555.500066</td>\n",
       "      <td>1649.289367</td>\n",
       "      <td>-24473.089556</td>\n",
       "      <td>-0.303704</td>\n",
       "      <td>-4.269816</td>\n",
       "      <td>-0.616468</td>\n",
       "      <td>1</td>\n",
       "      <td>0</td>\n",
       "      <td>46</td>\n",
       "    </tr>\n",
       "    <tr>\n",
       "      <th>2</th>\n",
       "      <td>2</td>\n",
       "      <td>2014-01-01 01:33:26.001</td>\n",
       "      <td>0</td>\n",
       "      <td>-10578.684043</td>\n",
       "      <td>-10180.467460</td>\n",
       "      <td>-24238.280949</td>\n",
       "      <td>0.277435</td>\n",
       "      <td>-4.047522</td>\n",
       "      <td>0.723155</td>\n",
       "      <td>-10571.858472</td>\n",
       "      <td>-10145.939908</td>\n",
       "      <td>-24271.169776</td>\n",
       "      <td>0.274880</td>\n",
       "      <td>-4.046788</td>\n",
       "      <td>0.718768</td>\n",
       "      <td>1</td>\n",
       "      <td>1</td>\n",
       "      <td>33</td>\n",
       "    </tr>\n",
       "    <tr>\n",
       "      <th>3</th>\n",
       "      <td>3</td>\n",
       "      <td>2014-01-01 02:20:09.001</td>\n",
       "      <td>0</td>\n",
       "      <td>-9148.251857</td>\n",
       "      <td>-20651.437460</td>\n",
       "      <td>-20720.381279</td>\n",
       "      <td>0.715600</td>\n",
       "      <td>-3.373762</td>\n",
       "      <td>1.722115</td>\n",
       "      <td>-9149.620794</td>\n",
       "      <td>-20618.200201</td>\n",
       "      <td>-20765.019094</td>\n",
       "      <td>0.712437</td>\n",
       "      <td>-3.375202</td>\n",
       "      <td>1.718306</td>\n",
       "      <td>1</td>\n",
       "      <td>2</td>\n",
       "      <td>20</td>\n",
       "    </tr>\n",
       "    <tr>\n",
       "      <th>4</th>\n",
       "      <td>4</td>\n",
       "      <td>2014-01-01 03:06:52.002</td>\n",
       "      <td>0</td>\n",
       "      <td>-6719.092336</td>\n",
       "      <td>-28929.061629</td>\n",
       "      <td>-14938.907967</td>\n",
       "      <td>0.992507</td>\n",
       "      <td>-2.519732</td>\n",
       "      <td>2.344703</td>\n",
       "      <td>-6729.358857</td>\n",
       "      <td>-28902.271436</td>\n",
       "      <td>-14992.399986</td>\n",
       "      <td>0.989382</td>\n",
       "      <td>-2.522618</td>\n",
       "      <td>2.342237</td>\n",
       "      <td>1</td>\n",
       "      <td>3</td>\n",
       "      <td>6</td>\n",
       "    </tr>\n",
       "    <tr>\n",
       "      <th>...</th>\n",
       "      <td>...</td>\n",
       "      <td>...</td>\n",
       "      <td>...</td>\n",
       "      <td>...</td>\n",
       "      <td>...</td>\n",
       "      <td>...</td>\n",
       "      <td>...</td>\n",
       "      <td>...</td>\n",
       "      <td>...</td>\n",
       "      <td>...</td>\n",
       "      <td>...</td>\n",
       "      <td>...</td>\n",
       "      <td>...</td>\n",
       "      <td>...</td>\n",
       "      <td>...</td>\n",
       "      <td>...</td>\n",
       "      <td>...</td>\n",
       "      <td>...</td>\n",
       "    </tr>\n",
       "    <tr>\n",
       "      <th>503222</th>\n",
       "      <td>1233684</td>\n",
       "      <td>2014-01-24 22:18:34.370</td>\n",
       "      <td>599</td>\n",
       "      <td>-22282.245721</td>\n",
       "      <td>2176.275085</td>\n",
       "      <td>4184.918699</td>\n",
       "      <td>1.255727</td>\n",
       "      <td>4.018148</td>\n",
       "      <td>-0.540243</td>\n",
       "      <td>-22847.208402</td>\n",
       "      <td>80.070907</td>\n",
       "      <td>4444.798405</td>\n",
       "      <td>0.870781</td>\n",
       "      <td>4.035965</td>\n",
       "      <td>-0.467196</td>\n",
       "      <td>24</td>\n",
       "      <td>22</td>\n",
       "      <td>18</td>\n",
       "    </tr>\n",
       "    <tr>\n",
       "      <th>503223</th>\n",
       "      <td>1233685</td>\n",
       "      <td>2014-01-24 22:43:25.007</td>\n",
       "      <td>599</td>\n",
       "      <td>-19551.683596</td>\n",
       "      <td>7997.489974</td>\n",
       "      <td>3224.501905</td>\n",
       "      <td>2.419800</td>\n",
       "      <td>3.729286</td>\n",
       "      <td>-0.746051</td>\n",
       "      <td>-20717.460440</td>\n",
       "      <td>6016.252299</td>\n",
       "      <td>3592.204365</td>\n",
       "      <td>2.003622</td>\n",
       "      <td>3.872352</td>\n",
       "      <td>-0.675867</td>\n",
       "      <td>24</td>\n",
       "      <td>22</td>\n",
       "      <td>43</td>\n",
       "    </tr>\n",
       "    <tr>\n",
       "      <th>503224</th>\n",
       "      <td>1233686</td>\n",
       "      <td>2014-01-24 23:08:15.645</td>\n",
       "      <td>599</td>\n",
       "      <td>-15064.616469</td>\n",
       "      <td>13079.761912</td>\n",
       "      <td>1975.820551</td>\n",
       "      <td>3.587560</td>\n",
       "      <td>3.009816</td>\n",
       "      <td>-0.920914</td>\n",
       "      <td>-16847.612994</td>\n",
       "      <td>11429.130312</td>\n",
       "      <td>2439.160526</td>\n",
       "      <td>3.186335</td>\n",
       "      <td>3.315717</td>\n",
       "      <td>-0.865266</td>\n",
       "      <td>24</td>\n",
       "      <td>23</td>\n",
       "      <td>8</td>\n",
       "    </tr>\n",
       "    <tr>\n",
       "      <th>503225</th>\n",
       "      <td>1233687</td>\n",
       "      <td>2014-01-24 23:33:06.283</td>\n",
       "      <td>599</td>\n",
       "      <td>-8953.211355</td>\n",
       "      <td>16721.787269</td>\n",
       "      <td>516.231786</td>\n",
       "      <td>4.556922</td>\n",
       "      <td>1.794477</td>\n",
       "      <td>-1.020603</td>\n",
       "      <td>-11273.779239</td>\n",
       "      <td>15659.892239</td>\n",
       "      <td>1041.308701</td>\n",
       "      <td>4.253614</td>\n",
       "      <td>2.276720</td>\n",
       "      <td>-0.996589</td>\n",
       "      <td>24</td>\n",
       "      <td>23</td>\n",
       "      <td>33</td>\n",
       "    </tr>\n",
       "    <tr>\n",
       "      <th>503226</th>\n",
       "      <td>1233688</td>\n",
       "      <td>2014-01-24 23:57:56.920</td>\n",
       "      <td>599</td>\n",
       "      <td>-1717.129724</td>\n",
       "      <td>18218.471698</td>\n",
       "      <td>-1004.927645</td>\n",
       "      <td>5.049138</td>\n",
       "      <td>0.162277</td>\n",
       "      <td>-0.996545</td>\n",
       "      <td>-4352.858942</td>\n",
       "      <td>17980.888207</td>\n",
       "      <td>-478.128914</td>\n",
       "      <td>4.945428</td>\n",
       "      <td>0.770715</td>\n",
       "      <td>-1.020298</td>\n",
       "      <td>24</td>\n",
       "      <td>23</td>\n",
       "      <td>57</td>\n",
       "    </tr>\n",
       "  </tbody>\n",
       "</table>\n",
       "<p>503227 rows × 18 columns</p>\n",
       "</div>"
      ],
      "text/plain": [
       "             id                   epoch  sat_id             x             y  \\\n",
       "0             0 2014-01-01 00:00:00.000       0  -8855.823863  13117.780146   \n",
       "1             1 2014-01-01 00:46:43.000       0 -10567.672384   1619.746066   \n",
       "2             2 2014-01-01 01:33:26.001       0 -10578.684043 -10180.467460   \n",
       "3             3 2014-01-01 02:20:09.001       0  -9148.251857 -20651.437460   \n",
       "4             4 2014-01-01 03:06:52.002       0  -6719.092336 -28929.061629   \n",
       "...         ...                     ...     ...           ...           ...   \n",
       "503222  1233684 2014-01-24 22:18:34.370     599 -22282.245721   2176.275085   \n",
       "503223  1233685 2014-01-24 22:43:25.007     599 -19551.683596   7997.489974   \n",
       "503224  1233686 2014-01-24 23:08:15.645     599 -15064.616469  13079.761912   \n",
       "503225  1233687 2014-01-24 23:33:06.283     599  -8953.211355  16721.787269   \n",
       "503226  1233688 2014-01-24 23:57:56.920     599  -1717.129724  18218.471698   \n",
       "\n",
       "                   z        Vx        Vy        Vz         x_sim  \\\n",
       "0      -20728.353233 -0.908303 -3.808436 -2.022083  -8843.131454   \n",
       "1      -24451.813271 -0.302590 -4.272617 -0.612796 -10555.500066   \n",
       "2      -24238.280949  0.277435 -4.047522  0.723155 -10571.858472   \n",
       "3      -20720.381279  0.715600 -3.373762  1.722115  -9149.620794   \n",
       "4      -14938.907967  0.992507 -2.519732  2.344703  -6729.358857   \n",
       "...              ...       ...       ...       ...           ...   \n",
       "503222   4184.918699  1.255727  4.018148 -0.540243 -22847.208402   \n",
       "503223   3224.501905  2.419800  3.729286 -0.746051 -20717.460440   \n",
       "503224   1975.820551  3.587560  3.009816 -0.920914 -16847.612994   \n",
       "503225    516.231786  4.556922  1.794477 -1.020603 -11273.779239   \n",
       "503226  -1004.927645  5.049138  0.162277 -0.996545  -4352.858942   \n",
       "\n",
       "               y_sim         z_sim    Vx_sim    Vy_sim    Vz_sim  Day  Hour  \\\n",
       "0       13138.221690 -20741.615306 -0.907527 -3.804930 -2.024133    1     0   \n",
       "1        1649.289367 -24473.089556 -0.303704 -4.269816 -0.616468    1     0   \n",
       "2      -10145.939908 -24271.169776  0.274880 -4.046788  0.718768    1     1   \n",
       "3      -20618.200201 -20765.019094  0.712437 -3.375202  1.718306    1     2   \n",
       "4      -28902.271436 -14992.399986  0.989382 -2.522618  2.342237    1     3   \n",
       "...              ...           ...       ...       ...       ...  ...   ...   \n",
       "503222     80.070907   4444.798405  0.870781  4.035965 -0.467196   24    22   \n",
       "503223   6016.252299   3592.204365  2.003622  3.872352 -0.675867   24    22   \n",
       "503224  11429.130312   2439.160526  3.186335  3.315717 -0.865266   24    23   \n",
       "503225  15659.892239   1041.308701  4.253614  2.276720 -0.996589   24    23   \n",
       "503226  17980.888207   -478.128914  4.945428  0.770715 -1.020298   24    23   \n",
       "\n",
       "        Minute  \n",
       "0            0  \n",
       "1           46  \n",
       "2           33  \n",
       "3           20  \n",
       "4            6  \n",
       "...        ...  \n",
       "503222      18  \n",
       "503223      43  \n",
       "503224       8  \n",
       "503225      33  \n",
       "503226      57  \n",
       "\n",
       "[503227 rows x 18 columns]"
      ]
     },
     "execution_count": 233,
     "metadata": {},
     "output_type": "execute_result"
    }
   ],
   "source": [
    "train"
   ]
  },
  {
   "cell_type": "code",
   "execution_count": 234,
   "id": "388c99c3",
   "metadata": {},
   "outputs": [],
   "source": [
    "list_column_x = ['id', 'sat_id', \n",
    "                 'x_sim','y_sim', 'z_sim', \n",
    "                 'Vx_sim', 'Vy_sim', 'Vz_sim']\n",
    "list_column_y = ['x', 'y', 'z', \n",
    "                 'Vx', 'Vy', 'Vz']\n",
    "\n",
    "X, y = feature_selection(train, list_column_x, list_column_y)"
   ]
  },
  {
   "cell_type": "code",
   "execution_count": 235,
   "id": "34a7f7c4",
   "metadata": {},
   "outputs": [],
   "source": [
    "train = transform_to_datetime(train,'epoch')"
   ]
  },
  {
   "cell_type": "code",
   "execution_count": 236,
   "id": "431e7cf9",
   "metadata": {},
   "outputs": [],
   "source": [
    "train"
   ]
  },
  {
   "cell_type": "markdown",
   "id": "68b4bee9",
   "metadata": {},
   "source": [
    "#### Split"
   ]
  },
  {
   "cell_type": "code",
   "execution_count": 237,
   "id": "60dad615",
   "metadata": {},
   "outputs": [],
   "source": [
    "def split_data(X,y, size, state):\n",
    "    \"\"\"splits data into training and test set\"\"\"\n",
    "    X_train, X_test, y_train, y_test = train_test_split(\n",
    "        X, y, test_size=size, random_state=state)\n",
    "    return X_train, X_test, y_train, y_test"
   ]
  },
  {
   "cell_type": "code",
   "execution_count": 238,
   "id": "539b547e",
   "metadata": {},
   "outputs": [],
   "source": [
    "X_train, X_test, y_train, y_test = split_data(X,y, 0.33, 42)"
   ]
  },
  {
   "cell_type": "code",
   "execution_count": 239,
   "id": "f21302ba",
   "metadata": {},
   "outputs": [],
   "source": [
    "def standard_scaler(data):\n",
    "    \"\"\"Applies a standard classifier\"\"\"\n",
    "    scaler = StandardScaler().fit(data)\n",
    "    data_transform = scaler.transform(data)\n",
    "    return data_transform"
   ]
  },
  {
   "cell_type": "code",
   "execution_count": 240,
   "id": "f584c3a1",
   "metadata": {},
   "outputs": [],
   "source": [
    "X_data_transformed = standard_scaler(X_train)"
   ]
  },
  {
   "cell_type": "markdown",
   "id": "fd7edce0",
   "metadata": {},
   "source": [
    "### Machine Learning Model . \n",
    "\n",
    "Some parameters included in [documentation](https://scikit-learn.org/stable/modules/generated/sklearn.ensemble.RandomForestRegressor.html#sklearn.ensemble.RandomForestRegressor) to highlight are :\n",
    "\n",
    "* **n_estimators**: *int, default=100* . number of trees in the forest . Default = 100\n",
    "* **max_samples**: *int or float, default=None* sub-sample size that we use to fit the different trees. For it to work bootstrap=True. If None, means that is going to use all the dataset for it. \n",
    "* **max_depth**: *int, default=None* . Maximum depth of the tree . If None, expansion until min_samples_split or untill all leaves are pure.\n",
    "* **min_samples_split**: *int or float, default=2* The minimum number of samples required to split an internal node. More examples, more conservative\n",
    "* **min_impurity_decrease**: *float, default=0.0* A node will be split if this split induces a decrease of the impurity greater than or equal to this value."
   ]
  },
  {
   "cell_type": "code",
   "execution_count": 241,
   "id": "11c4de63",
   "metadata": {},
   "outputs": [],
   "source": [
    "max_samples = 320000\n",
    "def RandomForestModel(X,Y):\n",
    "    \"\"\"Fits the classifier\"\"\"\n",
    "    regressor = RandomForestRegressor(bootstrap=True, n_estimators = 20, max_samples=max_samples)\n",
    "    regressor.fit(X_data_transformed, y_train)\n",
    "    return regressor"
   ]
  },
  {
   "cell_type": "code",
   "execution_count": 242,
   "id": "6d77f9c0",
   "metadata": {},
   "outputs": [
    {
     "data": {
      "text/plain": [
       "58.95286679267883"
      ]
     },
     "execution_count": 242,
     "metadata": {},
     "output_type": "execute_result"
    }
   ],
   "source": [
    "\n",
    "start = time.time()\n",
    "model = RandomForestModel(X_data_transformed,y_train)\n",
    "end = time.time()\n",
    "total_time = end - start \n",
    "total_time "
   ]
  },
  {
   "cell_type": "code",
   "execution_count": 243,
   "id": "75574127",
   "metadata": {},
   "outputs": [],
   "source": [
    "X_data_transformed_test = standard_scaler(X_test)\n",
    "prediction = model.predict(X_data_transformed_test) \n",
    "mse = mean_squared_error(y_test, prediction)"
   ]
  },
  {
   "cell_type": "code",
   "execution_count": 244,
   "id": "e845b5a9",
   "metadata": {},
   "outputs": [],
   "source": [
    "with Live(save_dvc_exp=True) as live:\n",
    "    live.log_metric(\"Acc train\",model.score(X_data_transformed, y_train))\n",
    "    live.log_metric(\"Mean Square error\", mse)\n"
   ]
  },
  {
   "cell_type": "markdown",
   "id": "3652fedb",
   "metadata": {},
   "source": [
    "### acc Score (Acc on train)"
   ]
  },
  {
   "cell_type": "code",
   "execution_count": 245,
   "id": "e4a0502c",
   "metadata": {},
   "outputs": [],
   "source": [
    "X_data_transformed_test = standard_scaler(X_test)"
   ]
  },
  {
   "cell_type": "code",
   "execution_count": 246,
   "id": "423dbae8",
   "metadata": {},
   "outputs": [
    {
     "data": {
      "text/plain": [
       "0.9659201850978331"
      ]
     },
     "execution_count": 246,
     "metadata": {},
     "output_type": "execute_result"
    }
   ],
   "source": [
    "model.score(X_data_transformed_test, y_test)"
   ]
  },
  {
   "cell_type": "markdown",
   "id": "80bf2923",
   "metadata": {},
   "source": [
    "### Test Data acc (Acc on test)"
   ]
  },
  {
   "cell_type": "code",
   "execution_count": 247,
   "id": "5ed10ca7",
   "metadata": {},
   "outputs": [
    {
     "data": {
      "text/plain": [
       "0.8548260993695903"
      ]
     },
     "execution_count": 247,
     "metadata": {},
     "output_type": "execute_result"
    }
   ],
   "source": [
    "test = test[['id', 'sat_id', 'x_sim','y_sim', 'z_sim', 'Vx_sim', 'Vy_sim', 'Vz_sim']].copy()\n",
    "test_scale = StandardScaler().fit_transform(test)\n",
    "model.score(test_scale, key)"
   ]
  },
  {
   "cell_type": "code",
   "execution_count": 248,
   "id": "236e9ecb",
   "metadata": {},
   "outputs": [
    {
     "name": "stdout",
     "output_type": "stream",
     "text": [
      "experiment finished table?\n"
     ]
    }
   ],
   "source": [
    "print('experiment finished table?')"
   ]
  }
 ],
 "metadata": {
  "kernelspec": {
   "display_name": "Python 3.9.13 ('venv': venv)",
   "language": "python",
   "name": "python3"
  },
  "language_info": {
   "codemirror_mode": {
    "name": "ipython",
    "version": 3
   },
   "file_extension": ".py",
   "mimetype": "text/x-python",
   "name": "python",
   "nbconvert_exporter": "python",
   "pygments_lexer": "ipython3",
   "version": "3.9.13"
  },
  "vscode": {
   "interpreter": {
    "hash": "5de348a90bd9fa124e9e406087ac5f0fbda10cff2a6156dc18dc16613a74d07f"
   }
  }
 },
 "nbformat": 4,
 "nbformat_minor": 5
}
